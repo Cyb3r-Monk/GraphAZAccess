{
  "cells": [
    {
      "cell_type": "markdown",
      "source": [
        "# Initializing notebook\r\n",
        "\r\n",
        "Initializing the notebook and MSTICPy."
      ],
      "metadata": {
        "nteract": {
          "transient": {
            "deleting": false
          }
        }
      }
    },
    {
      "cell_type": "code",
      "source": [
        "# import some modules needed in this cell\r\n",
        "from IPython.display import display, HTML\r\n",
        "\r\n",
        "display(HTML(\"Checking upgrade to latest msticpy version\"))\r\n",
        "%pip install --upgrade --quiet msticpy[azuresentinel]\r\n",
        "\r\n",
        "REQ_PYTHON_VER=\"3.8\"\r\n",
        "REQ_MSTICPY_VER=\"1.5.2\"\r\n",
        "\r\n",
        "# initialize msticpy\r\n",
        "import msticpy\r\n",
        "msticpy.init_notebook(namespace=globals());"
      ],
      "outputs": [],
      "execution_count": null,
      "metadata": {
        "jupyter": {
          "source_hidden": false,
          "outputs_hidden": false
        },
        "nteract": {
          "transient": {
            "deleting": false
          }
        },
        "gather": {
          "logged": 1652368719253
        }
      }
    },
    {
      "cell_type": "markdown",
      "source": [
        "# Getting Workspace and Authenticating"
      ],
      "metadata": {
        "nteract": {
          "transient": {
            "deleting": false
          }
        }
      }
    },
    {
      "cell_type": "code",
      "source": [
        "ws_config = WorkspaceConfig()\r\n",
        "\r\n",
        "if not ws_config.config_loaded:\r\n",
        "    ws_config.prompt_for_ws()\r\n",
        "  \r\n",
        "qry_prov = QueryProvider(data_environment=\"AzureSentinel\")\r\n",
        "\r\n",
        "qry_prov.connect(ws_config, mp_az_auth=False)\r\n",
        "table_index = qry_prov.schema_tables"
      ],
      "outputs": [],
      "execution_count": null,
      "metadata": {
        "jupyter": {
          "source_hidden": false,
          "outputs_hidden": true
        },
        "nteract": {
          "transient": {
            "deleting": false
          }
        },
        "gather": {
          "logged": 1652368742096
        }
      }
    },
    {
      "cell_type": "markdown",
      "source": [
        "# Getting target node\r\n",
        "\r\n",
        "Node to use when building shortest path to."
      ],
      "metadata": {
        "nteract": {
          "transient": {
            "deleting": false
          }
        }
      }
    },
    {
      "cell_type": "code",
      "source": [
        "WIDGET_DEFAULTS = {\r\n",
        "    \"layout\": widgets.Layout(width=\"95%\"),\r\n",
        "    \"style\": {\"description_width\": \"initial\"},\r\n",
        "}\r\n",
        "node_text = widgets.Text(description='Enter the Node to search for:', **WIDGET_DEFAULTS)\r\n",
        "display(node_text)"
      ],
      "outputs": [],
      "execution_count": null,
      "metadata": {
        "jupyter": {
          "source_hidden": false,
          "outputs_hidden": false
        },
        "nteract": {
          "transient": {
            "deleting": false
          }
        },
        "gather": {
          "logged": 1652370482832
        }
      }
    },
    {
      "cell_type": "code",
      "source": [
        "target_node = node_text.value\r\n",
        "print(target_node)"
      ],
      "outputs": [],
      "execution_count": null,
      "metadata": {
        "jupyter": {
          "source_hidden": false,
          "outputs_hidden": false
        },
        "nteract": {
          "transient": {
            "deleting": false
          }
        },
        "gather": {
          "logged": 1652370489811
        }
      }
    },
    {
      "cell_type": "markdown",
      "source": [
        "# Identifying shortest path to node\r\n",
        "\r\n",
        "Using ingested graph data, the shortest path to desired node is constructed."
      ],
      "metadata": {
        "nteract": {
          "transient": {
            "deleting": false
          }
        }
      }
    },
    {
      "cell_type": "code",
      "source": [
        "import matplotlib.pyplot as plt\r\n",
        "import networkx as nx\r\n",
        "\r\n",
        "# Get nodes and Edges from Custom logs\r\n",
        "nodes_df = qry_prov.exec_query('UBHnodes_CL | project Id_d,  Name=strcat(\"[\", toint(Id_d),\"] \", replace_string(iff(Properties_azname_s == \"\",Properties_objectid_g, Properties_azname_s ), \".ONMICROSOFT.COM\",\"\")),color = \"green\"')\r\n",
        "edges_df = qry_prov.exec_query('UBHrelationships_CL | where Label_s != \"AZContains\" | extend StartId = toint(Start_id_s), EndId = toint(End_id_s)')\r\n",
        "\r\n",
        "# Get target node\r\n",
        "target_node_df = qry_prov.exec_query(\"\"\"\r\n",
        "UBHnodes_CL | where Properties_azname_s == '{0}' | project Id_d\r\n",
        "\"\"\".format(target_node))\r\n",
        "target_node_id = int(target_node_df.Id_d)\r\n",
        "\r\n",
        "# Build the Graph object\r\n",
        "G = nx.Graph()\r\n",
        "# Add the edges\r\n",
        "G = nx.from_pandas_edgelist(edges_df, 'StartId', 'EndId', 'Label_s', create_using=nx.DiGraph())\r\n",
        "node_attr = nodes_df.set_index('Id_d').to_dict('index')\r\n",
        "nx.set_node_attributes(G, node_attr)\r\n",
        "\r\n",
        "# Get the shortest path to a node, using the tenant as the target node here, but it could be any node\r\n",
        "path = nx.single_target_shortest_path(G, target_node_id)\r\n",
        "\r\n",
        "# Get the 'filtered' edges, and Graph\r\n",
        "subG_loops = G.subgraph(path)\r\n",
        "subG = nx.DiGraph(subG_loops)\r\n",
        "\r\n",
        "# Remove unwanted edges\r\n",
        "length = dict(nx.single_target_shortest_path_length(subG, target_node_id))\r\n",
        "backward_edges = [(v,u) for v,u in subG.edges() if length[u] > length[v]]\r\n",
        "subG.remove_edges_from(backward_edges)\r\n",
        "\r\n",
        "# Get Edges labels\r\n",
        "edge_labels = nx.get_edge_attributes(subG, 'Label_s')\r\n",
        "node_labels = nx.get_node_attributes(subG, 'Name')\r\n",
        "\r\n",
        "# Helper functions\r\n",
        "def move_labels(pos, x_shift, y_shift):\r\n",
        "    return {n:(x + x_shift, y + y_shift) for n,(x,y) in pos.items()}\r\n",
        "\r\n",
        "def get_longest_path(paths):\r\n",
        "    return max((len(v), v, k) for k, v in paths.items())[1:]\r\n",
        "\r\n",
        "# Determine \"complete\" paths\r\n",
        "unique_paths = {}\r\n",
        "for i,n in enumerate(path):\r\n",
        "    unique_paths[n] = 1\r\n",
        "    for value in [path_value for path_value in path.values() if path_value != path[n]]:\r\n",
        "        if (set(path[n]).issubset(set(value))):\r\n",
        "            unique_paths.update({n:0})\r\n",
        "            break\r\n",
        "\r\n",
        "# define column positions\r\n",
        "pos = {n: (len(get_longest_path(path)[0]) - len(path[n]), 0) for i, n in enumerate(path)}\r\n",
        "\r\n",
        "# define row positions\r\n",
        "y = 0\r\n",
        "for i, j in enumerate(path):\r\n",
        "    if unique_paths[j] == 1:\r\n",
        "        y += 1\r\n",
        "        pos.update({n: (pos[n][0], pos[n][1] + y) for n in path[j]})\r\n",
        "\r\n",
        "# update target node position\r\n",
        "pos.update({target_node_id: (pos[target_node_id][0], y/2 + 0.5)})\r\n",
        "\r\n",
        "# shift label positions above nodes\r\n",
        "pos_labels = move_labels(pos, 0, 0.1)\r\n",
        "\r\n",
        "plt.figure(figsize=(20, 10))\r\n",
        "plt.title(\"Shortest path to node\")\r\n",
        "nx.draw_networkx(subG, pos, with_labels=False)\r\n",
        "nx.draw_networkx_edge_labels(subG, pos, edge_labels=edge_labels)\r\n",
        "nx.draw_networkx_labels(subG, pos_labels, labels = node_labels) \r\n",
        "plt.show()"
      ],
      "outputs": [],
      "execution_count": null,
      "metadata": {
        "jupyter": {
          "source_hidden": false,
          "outputs_hidden": false
        },
        "nteract": {
          "transient": {
            "deleting": false
          }
        },
        "gather": {
          "logged": 1652370540595
        }
      }
    },
    {
      "cell_type": "markdown",
      "source": [
        "# Getting alerts and events\r\n",
        "\r\n",
        "Querying for alert and event information to enrich graph. "
      ],
      "metadata": {
        "nteract": {
          "transient": {
            "deleting": false
          }
        }
      }
    },
    {
      "cell_type": "code",
      "source": [
        "# Get nodes and Edges from Incidents and Events\r\n",
        "\r\n",
        "time_frame = \"4d\"\r\n",
        "\r\n",
        "# Get related incidents\r\n",
        "def get_related_incidents_by_node_id(aNodeIds):\r\n",
        "    queryToExecute =\"\"\"\r\n",
        "    SecurityAlert\r\n",
        "    | where TimeGenerated > ago({0})\r\n",
        "    | mv-expand parse_json(Entities)\r\n",
        "    | extend EntityName = toupper(tostring(Entities[\"DisplayName\"]))\r\n",
        "    | where EntityName != \"\"\r\n",
        "    | join kind=leftouter UBHnodes_CL on $left.EntityName == $right.Properties_azname_s\r\n",
        "    | project SystemAlertId, StartId = toint(substring(tostring(replace_regex(SystemAlertId, @'[a-zA-Z-]',\"\")),0,5)), EndId = toint(Id_d), Label_s = \"Incident\", Start_labels_s =AlertSeverity, End_labels_s=Labels_s\r\n",
        "    | where EndId in ({1})\r\n",
        "    \"\"\".format(time_frame, ','.join([str(i) for i in aNodeIds]))\r\n",
        "\r\n",
        "    incident_edges_df = qry_prov.exec_query(queryToExecute)\r\n",
        "\r\n",
        "    return incident_edges_df\r\n",
        "\r\n",
        "# Get related events. For prototyping, this includes only \"Reset password\" events, hinted from the previous related path.\r\n",
        "# For next iterations, this would include all related events, depending on the path of interest, broken down to specific event types for each hop\r\n",
        "def get_related_events_by_node_id(aNodeIds):\r\n",
        "    queryToExecute =\"\"\"\r\n",
        "    AuditLogs\r\n",
        "    | where TimeGenerated > ago({0})\r\n",
        "    | where Category =~ \"UserManagement\"\r\n",
        "    | where OperationName == \"Reset user password\"\r\n",
        "    | mv-expand TargetResources\r\n",
        "    | extend Source = tostring(parse_json(parse_json(InitiatedBy).user).userPrincipalName)\r\n",
        "    | extend Target = toupper(parse_json(TargetResources).userPrincipalName)\r\n",
        "    | extend StartId = 2000 + hash(Id, 2000)\r\n",
        "    | join kind=leftouter UBHnodes_CL on $left.Target == $right.Properties_azname_s\r\n",
        "    | project Id, StartId, EndId = toint(Id_d), Label_s = \"Event\", Start_labels_s = OperationName, End_labels_s=Labels_s\r\n",
        "    | where EndId in ({1})\r\n",
        "    \"\"\".format(time_frame, ','.join([str(i) for i in aNodeIds]))\r\n",
        "  \r\n",
        "    event_edges_df = qry_prov.exec_query(queryToExecute)\r\n",
        "\r\n",
        "    return event_edges_df\r\n",
        "\r\n",
        "# Get incident node info\r\n",
        "incident_nodes_df = qry_prov.exec_query(\"\"\"\r\n",
        "SecurityAlert\r\n",
        "| where TimeGenerated > ago({0})\r\n",
        "| project TimeGenerated, Id_d = toint(substring(replace_regex(SystemAlertId, @'[a-zA-Z-]',\"\"),0,5)), Properties_azname_s=\"Incident\", Name = substring(DisplayName,0,50), color=\"red\"\r\n",
        "\"\"\".format(time_frame))\r\n",
        "\r\n",
        "# Get event node info. For prototyping, this includes only \"Reset password\" events, hinted from the previous related path.\r\n",
        "# For next iterations, this would include all related events, depending on the path of interest, broken down to specific event types for each hop\r\n",
        "event_nodes_df = qry_prov.exec_query(\"\"\"\r\n",
        "AuditLogs\r\n",
        "| where TimeGenerated > ago({0})\r\n",
        "| extend Source = tostring(parse_json(parse_json(InitiatedBy).user).userPrincipalName)\r\n",
        "| extend Id_d = 2000 + hash(Id, 2000)\r\n",
        "| project TimeGenerated, Id_d, Properties_azname_s=\"Event\", Name = strcat(OperationName, \" by \", Source), color = \"yellow\"\r\n",
        "\"\"\".format(time_frame))"
      ],
      "outputs": [],
      "execution_count": null,
      "metadata": {
        "jupyter": {
          "source_hidden": false,
          "outputs_hidden": false
        },
        "nteract": {
          "transient": {
            "deleting": false
          }
        },
        "gather": {
          "logged": 1652370651524
        }
      }
    },
    {
      "cell_type": "markdown",
      "source": [
        "# Adding incidents to graph\r\n",
        "\r\n",
        "For the identified path, related incidents are retrieved and added to the graph. "
      ],
      "metadata": {
        "nteract": {
          "transient": {
            "deleting": false
          }
        }
      }
    },
    {
      "cell_type": "code",
      "source": [
        "# set the Graph with incidents added\r\n",
        "incidentsG = subG\r\n",
        "\r\n",
        "# Get related Incidents\r\n",
        "incidents_edges_df = get_related_incidents_by_node_id(list(subG))\r\n",
        "if not incidents_edges_df.empty:\r\n",
        "    # create a new Graph object\r\n",
        "    incidentsG = nx.Graph()\r\n",
        "    # populate with Incidents edges from panda data frame\r\n",
        "    incidentsG = nx.from_pandas_edgelist(incidents_edges_df, 'StartId', 'EndId', 'Label_s', create_using=nx.DiGraph())\r\n",
        "    #print(incident_nodes_df)\r\n",
        "    incidents_node_attr = incident_nodes_df.set_index('Id_d').to_dict('index')    \r\n",
        "    nx.set_node_attributes(incidentsG, incidents_node_attr)\r\n",
        "    # compose the two graphs\r\n",
        "    incidentsG = nx.compose(subG, incidentsG)\r\n",
        "\r\n",
        "# Get Edges labels\r\n",
        "edge_labels = nx.get_edge_attributes(incidentsG, 'Label_s')\r\n",
        "node_labels = nx.get_node_attributes(incidentsG, 'Name')\r\n",
        "node_colors = list(nx.get_node_attributes(incidentsG, 'color').values())\r\n",
        "\r\n",
        "# Set incident node positions\r\n",
        "pos_new = {r.StartId: (pos[r.EndId][0], pos[r.EndId][1] - 0.5) for i, r in incidents_edges_df.iterrows()}\r\n",
        "pos.update(pos_new)\r\n",
        "# Set incident label positions\r\n",
        "pos_labels.update(move_labels(pos_new, 0, -0.1))\r\n",
        "\r\n",
        "plotTitle = \"Shortest path to node with incidents\"\r\n",
        "plt.figure(figsize=(20, 10))\r\n",
        "plt.title(plotTitle)\r\n",
        "nx.draw_networkx(incidentsG, pos, with_labels=False, node_color=node_colors)\r\n",
        "nx.draw_networkx_edge_labels(incidentsG, pos, edge_labels=edge_labels)\r\n",
        "nx.draw_networkx_labels(incidentsG, pos_labels, labels = node_labels)\r\n",
        "plt.show()"
      ],
      "outputs": [],
      "execution_count": null,
      "metadata": {
        "jupyter": {
          "source_hidden": false,
          "outputs_hidden": false
        },
        "nteract": {
          "transient": {
            "deleting": false
          }
        },
        "gather": {
          "logged": 1652370665804
        }
      }
    },
    {
      "cell_type": "markdown",
      "source": [
        "# Adding events to graph\r\n",
        "\r\n",
        "For the identified path, related events are retrieved and added to the graph. "
      ],
      "metadata": {
        "nteract": {
          "transient": {
            "deleting": false
          }
        }
      }
    },
    {
      "cell_type": "code",
      "source": [
        "# set the Graph with events added\r\n",
        "eventsG = incidentsG\r\n",
        "\r\n",
        "# Get related Incidents\r\n",
        "event_edges_df = get_related_events_by_node_id(list(incidentsG))\r\n",
        "#print (event_edges_df)\r\n",
        "if not event_edges_df.empty:\r\n",
        "    # create a new Graph object\r\n",
        "    eventsG = nx.Graph()\r\n",
        "    # populate with event edges from panda data frame\r\n",
        "    eventsG = nx.from_pandas_edgelist(event_edges_df, 'StartId', 'EndId', 'Label_s', create_using=nx.DiGraph())\r\n",
        "    #print(event_nodes_df)\r\n",
        "    events_node_attr = event_nodes_df.set_index('Id_d').to_dict('index')\r\n",
        "    #print(events_node_attr)\r\n",
        "    nx.set_node_attributes(eventsG, events_node_attr)\r\n",
        "    # compose the two graphs\r\n",
        "    eventsG = nx.compose(incidentsG, eventsG)\r\n",
        "\r\n",
        "# Get Edges labels\r\n",
        "edge_labels = nx.get_edge_attributes(eventsG, 'Label_s')\r\n",
        "node_labels = nx.get_node_attributes(eventsG, 'Name')\r\n",
        "node_colors = list(nx.get_node_attributes(eventsG, 'color').values())\r\n",
        "\r\n",
        "# Set event node positions\r\n",
        "pos_new = {r.StartId: (pos[r.EndId][0] + 0.25, pos[r.EndId][1] - 1) for i, r in event_edges_df.iterrows()}\r\n",
        "pos.update(pos_new)\r\n",
        "# Move event label positions\r\n",
        "pos_labels.update(move_labels(pos_new, 0, -0.1))\r\n",
        "\r\n",
        "plotTitle = \"Shortest path to node with events\"\r\n",
        "plt.figure(figsize=(20, 10))\r\n",
        "plt.title(plotTitle)\r\n",
        "nx.draw_networkx(eventsG, pos, with_labels=False, node_color=node_colors)\r\n",
        "nx.draw_networkx_edge_labels(eventsG, pos, edge_labels=edge_labels)\r\n",
        "nx.draw_networkx_labels(eventsG, pos_labels, labels = node_labels)\r\n",
        "\r\n",
        "plt.show()"
      ],
      "outputs": [],
      "execution_count": null,
      "metadata": {
        "jupyter": {
          "source_hidden": false,
          "outputs_hidden": false
        },
        "nteract": {
          "transient": {
            "deleting": false
          }
        },
        "gather": {
          "logged": 1652370713834
        }
      }
    },
    {
      "cell_type": "code",
      "source": [],
      "outputs": [],
      "execution_count": null,
      "metadata": {
        "jupyter": {
          "source_hidden": false,
          "outputs_hidden": false
        },
        "nteract": {
          "transient": {
            "deleting": false
          }
        }
      }
    }
  ],
  "metadata": {
    "kernelspec": {
      "name": "python38-azureml",
      "language": "python",
      "display_name": "Python 3.8 - AzureML"
    },
    "language_info": {
      "name": "python",
      "version": "3.8.5",
      "mimetype": "text/x-python",
      "codemirror_mode": {
        "name": "ipython",
        "version": 3
      },
      "pygments_lexer": "ipython3",
      "nbconvert_exporter": "python",
      "file_extension": ".py"
    },
    "nteract": {
      "version": "nteract-front-end@1.0.0"
    },
    "kernel_info": {
      "name": "python38-azureml"
    },
    "microsoft": {
      "host": {
        "AzureML": {
          "notebookHasBeenCompleted": true
        }
      }
    }
  },
  "nbformat": 4,
  "nbformat_minor": 2
}